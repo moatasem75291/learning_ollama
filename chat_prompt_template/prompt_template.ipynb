{
 "cells": [
  {
   "cell_type": "code",
   "execution_count": 3,
   "metadata": {},
   "outputs": [
    {
     "data": {
      "text/plain": [
       "True"
      ]
     },
     "execution_count": 3,
     "metadata": {},
     "output_type": "execute_result"
    }
   ],
   "source": [
    "import os\n",
    "import dotenv\n",
    "\n",
    "dotenv.load_dotenv()"
   ]
  },
  {
   "cell_type": "code",
   "execution_count": 7,
   "metadata": {},
   "outputs": [
    {
     "name": "stdout",
     "output_type": "stream",
     "text": [
      "The Earth is a terrestrial planet located in the solar system, composed of iron, oxygen, silicon, and other elements, with a solid surface that is protected by a thin atmosphere. It has a global average temperature of around 15°C (59°F), with vast oceans covering over 70% of its surface, and a diverse range of climates and ecosystems that support an incredible array of life forms. The Earth's atmosphere is essential for sustaining human life, with a breathable air mixture containing oxygen, nitrogen, and other gases necessary for respiration and photosynthesis.\n"
     ]
    }
   ],
   "source": [
    "from langchain_ollama import ChatOllama\n",
    "\n",
    "model = \"llama3.2:1b\"\n",
    "llm = ChatOllama(\n",
    "    model=model,\n",
    ")\n",
    "response = llm.invoke(\"Tell me about the earth, in 3 sentences.\").content\n",
    "print(response)"
   ]
  },
  {
   "cell_type": "markdown",
   "metadata": {},
   "source": [
    "# Langchain Messages"
   ]
  },
  {
   "cell_type": "code",
   "execution_count": 12,
   "metadata": {},
   "outputs": [],
   "source": [
    "from langchain_core.messages import SystemMessage, AIMessage, HumanMessage\n",
    "\n",
    "system = SystemMessage(\"You are an elementary school teacher. answer the questions in 3 short sentences.\")\n",
    "humen = HumanMessage(\"Tell me about the earth.\")"
   ]
  },
  {
   "cell_type": "code",
   "execution_count": 13,
   "metadata": {},
   "outputs": [],
   "source": [
    "messages = [system, humen]\n",
    "\n",
    "response = llm.invoke(messages).content"
   ]
  },
  {
   "cell_type": "code",
   "execution_count": 14,
   "metadata": {},
   "outputs": [
    {
     "name": "stdout",
     "output_type": "stream",
     "text": [
      "The Earth is a beautiful planet with many amazing features, including the sun, moon, and stars that light up our sky at night, as well as oceans, continents, and mountains that cover over 70% of its surface. The Earth's atmosphere is made up of gases like oxygen and nitrogen, which support life on our planet by providing us with oxygen to breathe and a protective layer from the sun's harmful rays. We live on a special planet called Earth, which is just one of seven planets in our solar system!\n"
     ]
    }
   ],
   "source": [
    "print(response)"
   ]
  },
  {
   "cell_type": "markdown",
   "metadata": {},
   "source": [
    "# Langchain Prompt template"
   ]
  },
  {
   "cell_type": "code",
   "execution_count": 15,
   "metadata": {},
   "outputs": [],
   "source": [
    "from langchain_core.prompts import (\n",
    "    HumanMessagePromptTemplate,\n",
    "    SystemMessagePromptTemplate,\n",
    "    PromptTemplate,\n",
    "    ChatPromptTemplate\n",
    ")"
   ]
  },
  {
   "cell_type": "code",
   "execution_count": 32,
   "metadata": {},
   "outputs": [],
   "source": [
    "system = SystemMessagePromptTemplate.from_template(\n",
    "    \"You are an {school} teacher. answer the questions in {points} labeled sentences.\"\n",
    "    )\n",
    "\n",
    "humen = HumanMessagePromptTemplate.from_template(\"Tell me about the {topic}.\")"
   ]
  },
  {
   "cell_type": "code",
   "execution_count": 33,
   "metadata": {},
   "outputs": [
    {
     "data": {
      "text/plain": [
       "SystemMessage(content='You are an secondary teacher. answer the questions in 2 labeled sentences.', additional_kwargs={}, response_metadata={})"
      ]
     },
     "execution_count": 33,
     "metadata": {},
     "output_type": "execute_result"
    }
   ],
   "source": [
    "system.format(school=\"secondary\", points=2)"
   ]
  },
  {
   "cell_type": "code",
   "execution_count": 34,
   "metadata": {},
   "outputs": [
    {
     "data": {
      "text/plain": [
       "'System: You are an secondaey teacher. answer the questions in 2 labeled sentences.\\nHuman: Tell me about the sun.'"
      ]
     },
     "execution_count": 34,
     "metadata": {},
     "output_type": "execute_result"
    }
   ],
   "source": [
    "messages = [system, humen]\n",
    "\n",
    "template = ChatPromptTemplate.from_messages(messages)\n",
    "question = template.format(school=\"secondaey\", points=2, topic=\"sun\")\n",
    "question"
   ]
  },
  {
   "cell_type": "code",
   "execution_count": 35,
   "metadata": {},
   "outputs": [
    {
     "name": "stdout",
     "output_type": "stream",
     "text": [
      "Here's my response:\n",
      "\n",
      "The sun is a massive ball of hot, glowing gas that is approximately 93 million miles away from Earth, and its incredible energy output is what powers our planet through photosynthesis, weather patterns, and many other essential processes.\n",
      "\n",
      "Its surface temperature reaches as high as 5,500 degrees Celsius, but the core of the sun is estimated to be around 15,000,000 degrees Celsius, making it one of the most extreme environments in our solar system.\n"
     ]
    }
   ],
   "source": [
    "response = llm.invoke(question).content\n",
    "\n",
    "print(response)"
   ]
  },
  {
   "cell_type": "code",
   "execution_count": null,
   "metadata": {},
   "outputs": [],
   "source": []
  }
 ],
 "metadata": {
  "kernelspec": {
   "display_name": "ollama_env",
   "language": "python",
   "name": "python3"
  },
  "language_info": {
   "codemirror_mode": {
    "name": "ipython",
    "version": 3
   },
   "file_extension": ".py",
   "mimetype": "text/x-python",
   "name": "python",
   "nbconvert_exporter": "python",
   "pygments_lexer": "ipython3",
   "version": "3.10.7"
  }
 },
 "nbformat": 4,
 "nbformat_minor": 2
}
